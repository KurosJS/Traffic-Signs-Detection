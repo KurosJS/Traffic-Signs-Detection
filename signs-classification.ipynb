{
 "cells": [
  {
   "cell_type": "markdown",
   "id": "6f2cca54",
   "metadata": {
    "papermill": {
     "duration": 0.025234,
     "end_time": "2024-08-07T18:39:34.731480",
     "exception": false,
     "start_time": "2024-08-07T18:39:34.706246",
     "status": "completed"
    },
    "tags": []
   },
   "source": [
    "# 1. Download and Imports"
   ]
  },
  {
   "cell_type": "code",
   "execution_count": 1,
   "id": "218b4468",
   "metadata": {
    "execution": {
     "iopub.execute_input": "2024-08-07T18:39:34.779006Z",
     "iopub.status.busy": "2024-08-07T18:39:34.778534Z",
     "iopub.status.idle": "2024-08-07T18:39:41.202870Z",
     "shell.execute_reply": "2024-08-07T18:39:41.202174Z"
    },
    "papermill": {
     "duration": 6.45085,
     "end_time": "2024-08-07T18:39:41.205271",
     "exception": false,
     "start_time": "2024-08-07T18:39:34.754421",
     "status": "completed"
    },
    "tags": []
   },
   "outputs": [],
   "source": [
    "# Fundamental classes\n",
    "import numpy as np \n",
    "import pandas as pd \n",
    "import tensorflow as tf\n",
    "import os\n",
    "\n",
    "# Image related\n",
    "import cv2\n",
    "from PIL import Image\n",
    "\n",
    "#Performance Plot\n",
    "from sklearn import metrics \n",
    "from sklearn.metrics import f1_score, accuracy_score,confusion_matrix,classification_report\n",
    "import matplotlib.pyplot as plt\n",
    "import seaborn as sns\n",
    "%matplotlib inline\n",
    "\n",
    "# For the model and it's training\n",
    "from sklearn.model_selection import train_test_split\n",
    "from tensorflow.keras.utils import to_categorical\n",
    "from tensorflow.keras.models import Sequential, load_model\n",
    "from tensorflow.keras.layers import Conv2D, MaxPool2D, Dense, Flatten, Dropout\n",
    "from keras.models import load_model\n",
    "\n",
    "# Time\n",
    "import time\n",
    "import datetime\n",
    "\n",
    "# Warnings\n",
    "import warnings\n",
    "warnings.filterwarnings('ignore')"
   ]
  },
  {
   "cell_type": "markdown",
   "id": "7411dc23",
   "metadata": {
    "papermill": {
     "duration": 0.021975,
     "end_time": "2024-08-07T18:39:41.250113",
     "exception": false,
     "start_time": "2024-08-07T18:39:41.228138",
     "status": "completed"
    },
    "tags": []
   },
   "source": [
    "# 2. Functions"
   ]
  },
  {
   "cell_type": "code",
   "execution_count": 2,
   "id": "1de71e20",
   "metadata": {
    "execution": {
     "iopub.execute_input": "2024-08-07T18:39:41.296327Z",
     "iopub.status.busy": "2024-08-07T18:39:41.296058Z",
     "iopub.status.idle": "2024-08-07T18:39:41.302423Z",
     "shell.execute_reply": "2024-08-07T18:39:41.301670Z"
    },
    "papermill": {
     "duration": 0.031774,
     "end_time": "2024-08-07T18:39:41.304201",
     "exception": false,
     "start_time": "2024-08-07T18:39:41.272427",
     "status": "completed"
    },
    "tags": []
   },
   "outputs": [],
   "source": [
    "# date_time function\n",
    "\n",
    "def date_time(x):\n",
    "    if x==1:\n",
    "        return 'Timestamp: {:%Y-%m-%d %H:%M:%S}'.format(datetime.datetime.now())\n",
    "    if x==2:    \n",
    "        return 'Timestamp: {:%Y-%b-%d %H:%M:%S}'.format(datetime.datetime.now())\n",
    "    if x==3:  \n",
    "        return 'Date now: %s' % datetime.datetime.now()\n",
    "    if x==4:  \n",
    "        return 'Date today: %s' % datetime.date.today()"
   ]
  },
  {
   "cell_type": "code",
   "execution_count": 3,
   "id": "976bfc6c",
   "metadata": {
    "execution": {
     "iopub.execute_input": "2024-08-07T18:39:41.350443Z",
     "iopub.status.busy": "2024-08-07T18:39:41.350169Z",
     "iopub.status.idle": "2024-08-07T18:39:41.362177Z",
     "shell.execute_reply": "2024-08-07T18:39:41.361442Z"
    },
    "papermill": {
     "duration": 0.037366,
     "end_time": "2024-08-07T18:39:41.364032",
     "exception": false,
     "start_time": "2024-08-07T18:39:41.326666",
     "status": "completed"
    },
    "tags": []
   },
   "outputs": [],
   "source": [
    "# Performance Plot\n",
    "\n",
    "def plot_performance(history=None, figure_directory=None, ylim_pad=[0, 0]):\n",
    "    xlabel = 'Epoch'\n",
    "    legends = ['Training', 'Validation']\n",
    "\n",
    "    plt.figure(figsize=(20, 5))\n",
    "\n",
    "    y1 = history.history['accuracy']\n",
    "    y2 = history.history['val_accuracy']\n",
    "\n",
    "    min_y = min(min(y1), min(y2))-ylim_pad[0]\n",
    "    max_y = max(max(y1), max(y2))+ylim_pad[0]\n",
    "\n",
    "\n",
    "    plt.subplot(121)\n",
    "\n",
    "    plt.plot(y1)\n",
    "    plt.plot(y2)\n",
    "\n",
    "    plt.title('Model Accuracy\\n'+date_time(1), fontsize=17)\n",
    "    plt.xlabel(xlabel, fontsize=15)\n",
    "    plt.ylabel('Accuracy', fontsize=15)\n",
    "    plt.ylim(min_y, max_y)\n",
    "    plt.legend(legends, loc='upper left')\n",
    "    plt.grid()\n",
    "\n",
    "    y1 = history.history['loss']\n",
    "    y2 = history.history['val_loss']\n",
    "\n",
    "    min_y = min(min(y1), min(y2))-ylim_pad[1]\n",
    "    max_y = max(max(y1), max(y2))+ylim_pad[1]\n",
    "\n",
    "\n",
    "    plt.subplot(122)\n",
    "\n",
    "    plt.plot(y1)\n",
    "    plt.plot(y2)\n",
    "\n",
    "    plt.title('Model Loss\\n'+date_time(1), fontsize=17)\n",
    "    plt.xlabel(xlabel, fontsize=15)\n",
    "    plt.ylabel('Loss', fontsize=15)\n",
    "    plt.ylim(min_y, max_y)\n",
    "    plt.legend(legends, loc='upper left')\n",
    "    plt.grid()\n",
    "    if figure_directory:\n",
    "        plt.savefig(figure_directory+\"/history\")\n",
    "\n",
    "    plt.show()"
   ]
  },
  {
   "cell_type": "markdown",
   "id": "e90bb984",
   "metadata": {
    "papermill": {
     "duration": 0.02208,
     "end_time": "2024-08-07T18:39:41.408316",
     "exception": false,
     "start_time": "2024-08-07T18:39:41.386236",
     "status": "completed"
    },
    "tags": []
   },
   "source": [
    "# 3. Loading Dataset (Traffic Signs Images)"
   ]
  },
  {
   "cell_type": "code",
   "execution_count": 4,
   "id": "9ec034b5",
   "metadata": {
    "execution": {
     "iopub.execute_input": "2024-08-07T18:39:41.456692Z",
     "iopub.status.busy": "2024-08-07T18:39:41.456394Z",
     "iopub.status.idle": "2024-08-07T18:43:50.429664Z",
     "shell.execute_reply": "2024-08-07T18:43:50.428759Z"
    },
    "papermill": {
     "duration": 248.999302,
     "end_time": "2024-08-07T18:43:50.432222",
     "exception": false,
     "start_time": "2024-08-07T18:39:41.432920",
     "status": "completed"
    },
    "tags": []
   },
   "outputs": [],
   "source": [
    "# Setting variables for later use\n",
    "data = []\n",
    "labels = []\n",
    "classes = 43\n",
    "cur_path = os.getcwd()\n",
    "\n",
    "# Retrieving the images and their labels \n",
    "for i in range(classes):\n",
    "    path = os.path.join('./input/gtsrb-german-traffic-sign/','Train',str(i))\n",
    "    images = os.listdir(path)\n",
    "\n",
    "    for a in images:\n",
    "        try:\n",
    "            image = Image.open(path + '/'+ a)\n",
    "            image = image.resize((30,30))\n",
    "            image = np.array(image)\n",
    "            #sim = Image.fromarray(image)\n",
    "            data.append(image)\n",
    "            labels.append(i)\n",
    "        except:\n",
    "            print(\"Error loading image\")\n",
    "\n",
    "# Converting lists into numpy arrays\n",
    "data = np.array(data)\n",
    "labels = np.array(labels)"
   ]
  },
  {
   "cell_type": "markdown",
   "id": "90a7ca26",
   "metadata": {
    "papermill": {
     "duration": 0.021855,
     "end_time": "2024-08-07T18:43:50.477065",
     "exception": false,
     "start_time": "2024-08-07T18:43:50.455210",
     "status": "completed"
    },
    "tags": []
   },
   "source": [
    "# 4. Data Splitting and conversion"
   ]
  },
  {
   "cell_type": "code",
   "execution_count": 5,
   "id": "51071b0b",
   "metadata": {
    "execution": {
     "iopub.execute_input": "2024-08-07T18:43:50.522638Z",
     "iopub.status.busy": "2024-08-07T18:43:50.522007Z",
     "iopub.status.idle": "2024-08-07T18:43:50.568543Z",
     "shell.execute_reply": "2024-08-07T18:43:50.567804Z"
    },
    "papermill": {
     "duration": 0.071864,
     "end_time": "2024-08-07T18:43:50.570887",
     "exception": false,
     "start_time": "2024-08-07T18:43:50.499023",
     "status": "completed"
    },
    "tags": []
   },
   "outputs": [
    {
     "name": "stdout",
     "output_type": "stream",
     "text": [
      "(39209, 30, 30, 3) (39209,)\n",
      "(31367, 30, 30, 3) (7842, 30, 30, 3) (31367,) (7842,)\n"
     ]
    }
   ],
   "source": [
    "# Checking data shape\n",
    "print(data.shape, labels.shape)\n",
    "\n",
    "# Splitting training and testing dataset\n",
    "X_train, X_test, y_train, y_test = train_test_split(data, labels, test_size=0.2, random_state=42)\n",
    "\n",
    "# Displaying the shape after the split\n",
    "print(X_train.shape, X_test.shape, y_train.shape, y_test.shape)\n",
    "\n",
    "# Converting the labels into one hot encoding\n",
    "y_train = to_categorical(y_train, 43)\n",
    "y_test = to_categorical(y_test, 43)"
   ]
  },
  {
   "cell_type": "markdown",
   "id": "d3fd8985",
   "metadata": {
    "papermill": {
     "duration": 0.022244,
     "end_time": "2024-08-07T18:43:50.616140",
     "exception": false,
     "start_time": "2024-08-07T18:43:50.593896",
     "status": "completed"
    },
    "tags": []
   },
   "source": [
    "# 5. Creating and Compiling the Model"
   ]
  },
  {
   "cell_type": "code",
   "execution_count": 6,
   "id": "ae6175d5",
   "metadata": {
    "execution": {
     "iopub.execute_input": "2024-08-07T18:43:50.662356Z",
     "iopub.status.busy": "2024-08-07T18:43:50.662115Z",
     "iopub.status.idle": "2024-08-07T18:43:53.404489Z",
     "shell.execute_reply": "2024-08-07T18:43:53.403663Z"
    },
    "papermill": {
     "duration": 2.767793,
     "end_time": "2024-08-07T18:43:53.406432",
     "exception": false,
     "start_time": "2024-08-07T18:43:50.638639",
     "status": "completed"
    },
    "tags": []
   },
   "outputs": [
    {
     "data": {
      "text/html": [
       "<pre style=\"white-space:pre;overflow-x:auto;line-height:normal;font-family:Menlo,'DejaVu Sans Mono',consolas,'Courier New',monospace\"><span style=\"font-weight: bold\">Model: \"sequential\"</span>\n",
       "</pre>\n"
      ],
      "text/plain": [
       "\u001b[1mModel: \"sequential\"\u001b[0m\n"
      ]
     },
     "metadata": {},
     "output_type": "display_data"
    },
    {
     "data": {
      "text/html": [
       "<pre style=\"white-space:pre;overflow-x:auto;line-height:normal;font-family:Menlo,'DejaVu Sans Mono',consolas,'Courier New',monospace\">┏━━━━━━━━━━━━━━━━━━━━━━━━━━━━━━━━━┳━━━━━━━━━━━━━━━━━━━━━━━━┳━━━━━━━━━━━━━━━┓\n",
       "┃<span style=\"font-weight: bold\"> Layer (type)                    </span>┃<span style=\"font-weight: bold\"> Output Shape           </span>┃<span style=\"font-weight: bold\">       Param # </span>┃\n",
       "┡━━━━━━━━━━━━━━━━━━━━━━━━━━━━━━━━━╇━━━━━━━━━━━━━━━━━━━━━━━━╇━━━━━━━━━━━━━━━┩\n",
       "│ conv2d (<span style=\"color: #0087ff; text-decoration-color: #0087ff\">Conv2D</span>)                 │ (<span style=\"color: #00d7ff; text-decoration-color: #00d7ff\">None</span>, <span style=\"color: #00af00; text-decoration-color: #00af00\">26</span>, <span style=\"color: #00af00; text-decoration-color: #00af00\">26</span>, <span style=\"color: #00af00; text-decoration-color: #00af00\">32</span>)     │         <span style=\"color: #00af00; text-decoration-color: #00af00\">2,432</span> │\n",
       "├─────────────────────────────────┼────────────────────────┼───────────────┤\n",
       "│ conv2d_1 (<span style=\"color: #0087ff; text-decoration-color: #0087ff\">Conv2D</span>)               │ (<span style=\"color: #00d7ff; text-decoration-color: #00d7ff\">None</span>, <span style=\"color: #00af00; text-decoration-color: #00af00\">22</span>, <span style=\"color: #00af00; text-decoration-color: #00af00\">22</span>, <span style=\"color: #00af00; text-decoration-color: #00af00\">64</span>)     │        <span style=\"color: #00af00; text-decoration-color: #00af00\">51,264</span> │\n",
       "├─────────────────────────────────┼────────────────────────┼───────────────┤\n",
       "│ max_pooling2d (<span style=\"color: #0087ff; text-decoration-color: #0087ff\">MaxPooling2D</span>)    │ (<span style=\"color: #00d7ff; text-decoration-color: #00d7ff\">None</span>, <span style=\"color: #00af00; text-decoration-color: #00af00\">11</span>, <span style=\"color: #00af00; text-decoration-color: #00af00\">11</span>, <span style=\"color: #00af00; text-decoration-color: #00af00\">64</span>)     │             <span style=\"color: #00af00; text-decoration-color: #00af00\">0</span> │\n",
       "├─────────────────────────────────┼────────────────────────┼───────────────┤\n",
       "│ dropout (<span style=\"color: #0087ff; text-decoration-color: #0087ff\">Dropout</span>)               │ (<span style=\"color: #00d7ff; text-decoration-color: #00d7ff\">None</span>, <span style=\"color: #00af00; text-decoration-color: #00af00\">11</span>, <span style=\"color: #00af00; text-decoration-color: #00af00\">11</span>, <span style=\"color: #00af00; text-decoration-color: #00af00\">64</span>)     │             <span style=\"color: #00af00; text-decoration-color: #00af00\">0</span> │\n",
       "├─────────────────────────────────┼────────────────────────┼───────────────┤\n",
       "│ conv2d_2 (<span style=\"color: #0087ff; text-decoration-color: #0087ff\">Conv2D</span>)               │ (<span style=\"color: #00d7ff; text-decoration-color: #00d7ff\">None</span>, <span style=\"color: #00af00; text-decoration-color: #00af00\">9</span>, <span style=\"color: #00af00; text-decoration-color: #00af00\">9</span>, <span style=\"color: #00af00; text-decoration-color: #00af00\">128</span>)      │        <span style=\"color: #00af00; text-decoration-color: #00af00\">73,856</span> │\n",
       "├─────────────────────────────────┼────────────────────────┼───────────────┤\n",
       "│ conv2d_3 (<span style=\"color: #0087ff; text-decoration-color: #0087ff\">Conv2D</span>)               │ (<span style=\"color: #00d7ff; text-decoration-color: #00d7ff\">None</span>, <span style=\"color: #00af00; text-decoration-color: #00af00\">7</span>, <span style=\"color: #00af00; text-decoration-color: #00af00\">7</span>, <span style=\"color: #00af00; text-decoration-color: #00af00\">256</span>)      │       <span style=\"color: #00af00; text-decoration-color: #00af00\">295,168</span> │\n",
       "├─────────────────────────────────┼────────────────────────┼───────────────┤\n",
       "│ max_pooling2d_1 (<span style=\"color: #0087ff; text-decoration-color: #0087ff\">MaxPooling2D</span>)  │ (<span style=\"color: #00d7ff; text-decoration-color: #00d7ff\">None</span>, <span style=\"color: #00af00; text-decoration-color: #00af00\">3</span>, <span style=\"color: #00af00; text-decoration-color: #00af00\">3</span>, <span style=\"color: #00af00; text-decoration-color: #00af00\">256</span>)      │             <span style=\"color: #00af00; text-decoration-color: #00af00\">0</span> │\n",
       "├─────────────────────────────────┼────────────────────────┼───────────────┤\n",
       "│ dropout_1 (<span style=\"color: #0087ff; text-decoration-color: #0087ff\">Dropout</span>)             │ (<span style=\"color: #00d7ff; text-decoration-color: #00d7ff\">None</span>, <span style=\"color: #00af00; text-decoration-color: #00af00\">3</span>, <span style=\"color: #00af00; text-decoration-color: #00af00\">3</span>, <span style=\"color: #00af00; text-decoration-color: #00af00\">256</span>)      │             <span style=\"color: #00af00; text-decoration-color: #00af00\">0</span> │\n",
       "├─────────────────────────────────┼────────────────────────┼───────────────┤\n",
       "│ flatten (<span style=\"color: #0087ff; text-decoration-color: #0087ff\">Flatten</span>)               │ (<span style=\"color: #00d7ff; text-decoration-color: #00d7ff\">None</span>, <span style=\"color: #00af00; text-decoration-color: #00af00\">2304</span>)           │             <span style=\"color: #00af00; text-decoration-color: #00af00\">0</span> │\n",
       "├─────────────────────────────────┼────────────────────────┼───────────────┤\n",
       "│ dense (<span style=\"color: #0087ff; text-decoration-color: #0087ff\">Dense</span>)                   │ (<span style=\"color: #00d7ff; text-decoration-color: #00d7ff\">None</span>, <span style=\"color: #00af00; text-decoration-color: #00af00\">512</span>)            │     <span style=\"color: #00af00; text-decoration-color: #00af00\">1,180,160</span> │\n",
       "├─────────────────────────────────┼────────────────────────┼───────────────┤\n",
       "│ dropout_2 (<span style=\"color: #0087ff; text-decoration-color: #0087ff\">Dropout</span>)             │ (<span style=\"color: #00d7ff; text-decoration-color: #00d7ff\">None</span>, <span style=\"color: #00af00; text-decoration-color: #00af00\">512</span>)            │             <span style=\"color: #00af00; text-decoration-color: #00af00\">0</span> │\n",
       "├─────────────────────────────────┼────────────────────────┼───────────────┤\n",
       "│ dense_1 (<span style=\"color: #0087ff; text-decoration-color: #0087ff\">Dense</span>)                 │ (<span style=\"color: #00d7ff; text-decoration-color: #00d7ff\">None</span>, <span style=\"color: #00af00; text-decoration-color: #00af00\">43</span>)             │        <span style=\"color: #00af00; text-decoration-color: #00af00\">22,059</span> │\n",
       "└─────────────────────────────────┴────────────────────────┴───────────────┘\n",
       "</pre>\n"
      ],
      "text/plain": [
       "┏━━━━━━━━━━━━━━━━━━━━━━━━━━━━━━━━━┳━━━━━━━━━━━━━━━━━━━━━━━━┳━━━━━━━━━━━━━━━┓\n",
       "┃\u001b[1m \u001b[0m\u001b[1mLayer (type)                   \u001b[0m\u001b[1m \u001b[0m┃\u001b[1m \u001b[0m\u001b[1mOutput Shape          \u001b[0m\u001b[1m \u001b[0m┃\u001b[1m \u001b[0m\u001b[1m      Param #\u001b[0m\u001b[1m \u001b[0m┃\n",
       "┡━━━━━━━━━━━━━━━━━━━━━━━━━━━━━━━━━╇━━━━━━━━━━━━━━━━━━━━━━━━╇━━━━━━━━━━━━━━━┩\n",
       "│ conv2d (\u001b[38;5;33mConv2D\u001b[0m)                 │ (\u001b[38;5;45mNone\u001b[0m, \u001b[38;5;34m26\u001b[0m, \u001b[38;5;34m26\u001b[0m, \u001b[38;5;34m32\u001b[0m)     │         \u001b[38;5;34m2,432\u001b[0m │\n",
       "├─────────────────────────────────┼────────────────────────┼───────────────┤\n",
       "│ conv2d_1 (\u001b[38;5;33mConv2D\u001b[0m)               │ (\u001b[38;5;45mNone\u001b[0m, \u001b[38;5;34m22\u001b[0m, \u001b[38;5;34m22\u001b[0m, \u001b[38;5;34m64\u001b[0m)     │        \u001b[38;5;34m51,264\u001b[0m │\n",
       "├─────────────────────────────────┼────────────────────────┼───────────────┤\n",
       "│ max_pooling2d (\u001b[38;5;33mMaxPooling2D\u001b[0m)    │ (\u001b[38;5;45mNone\u001b[0m, \u001b[38;5;34m11\u001b[0m, \u001b[38;5;34m11\u001b[0m, \u001b[38;5;34m64\u001b[0m)     │             \u001b[38;5;34m0\u001b[0m │\n",
       "├─────────────────────────────────┼────────────────────────┼───────────────┤\n",
       "│ dropout (\u001b[38;5;33mDropout\u001b[0m)               │ (\u001b[38;5;45mNone\u001b[0m, \u001b[38;5;34m11\u001b[0m, \u001b[38;5;34m11\u001b[0m, \u001b[38;5;34m64\u001b[0m)     │             \u001b[38;5;34m0\u001b[0m │\n",
       "├─────────────────────────────────┼────────────────────────┼───────────────┤\n",
       "│ conv2d_2 (\u001b[38;5;33mConv2D\u001b[0m)               │ (\u001b[38;5;45mNone\u001b[0m, \u001b[38;5;34m9\u001b[0m, \u001b[38;5;34m9\u001b[0m, \u001b[38;5;34m128\u001b[0m)      │        \u001b[38;5;34m73,856\u001b[0m │\n",
       "├─────────────────────────────────┼────────────────────────┼───────────────┤\n",
       "│ conv2d_3 (\u001b[38;5;33mConv2D\u001b[0m)               │ (\u001b[38;5;45mNone\u001b[0m, \u001b[38;5;34m7\u001b[0m, \u001b[38;5;34m7\u001b[0m, \u001b[38;5;34m256\u001b[0m)      │       \u001b[38;5;34m295,168\u001b[0m │\n",
       "├─────────────────────────────────┼────────────────────────┼───────────────┤\n",
       "│ max_pooling2d_1 (\u001b[38;5;33mMaxPooling2D\u001b[0m)  │ (\u001b[38;5;45mNone\u001b[0m, \u001b[38;5;34m3\u001b[0m, \u001b[38;5;34m3\u001b[0m, \u001b[38;5;34m256\u001b[0m)      │             \u001b[38;5;34m0\u001b[0m │\n",
       "├─────────────────────────────────┼────────────────────────┼───────────────┤\n",
       "│ dropout_1 (\u001b[38;5;33mDropout\u001b[0m)             │ (\u001b[38;5;45mNone\u001b[0m, \u001b[38;5;34m3\u001b[0m, \u001b[38;5;34m3\u001b[0m, \u001b[38;5;34m256\u001b[0m)      │             \u001b[38;5;34m0\u001b[0m │\n",
       "├─────────────────────────────────┼────────────────────────┼───────────────┤\n",
       "│ flatten (\u001b[38;5;33mFlatten\u001b[0m)               │ (\u001b[38;5;45mNone\u001b[0m, \u001b[38;5;34m2304\u001b[0m)           │             \u001b[38;5;34m0\u001b[0m │\n",
       "├─────────────────────────────────┼────────────────────────┼───────────────┤\n",
       "│ dense (\u001b[38;5;33mDense\u001b[0m)                   │ (\u001b[38;5;45mNone\u001b[0m, \u001b[38;5;34m512\u001b[0m)            │     \u001b[38;5;34m1,180,160\u001b[0m │\n",
       "├─────────────────────────────────┼────────────────────────┼───────────────┤\n",
       "│ dropout_2 (\u001b[38;5;33mDropout\u001b[0m)             │ (\u001b[38;5;45mNone\u001b[0m, \u001b[38;5;34m512\u001b[0m)            │             \u001b[38;5;34m0\u001b[0m │\n",
       "├─────────────────────────────────┼────────────────────────┼───────────────┤\n",
       "│ dense_1 (\u001b[38;5;33mDense\u001b[0m)                 │ (\u001b[38;5;45mNone\u001b[0m, \u001b[38;5;34m43\u001b[0m)             │        \u001b[38;5;34m22,059\u001b[0m │\n",
       "└─────────────────────────────────┴────────────────────────┴───────────────┘\n"
      ]
     },
     "metadata": {},
     "output_type": "display_data"
    },
    {
     "data": {
      "text/html": [
       "<pre style=\"white-space:pre;overflow-x:auto;line-height:normal;font-family:Menlo,'DejaVu Sans Mono',consolas,'Courier New',monospace\"><span style=\"font-weight: bold\"> Total params: </span><span style=\"color: #00af00; text-decoration-color: #00af00\">1,624,939</span> (6.20 MB)\n",
       "</pre>\n"
      ],
      "text/plain": [
       "\u001b[1m Total params: \u001b[0m\u001b[38;5;34m1,624,939\u001b[0m (6.20 MB)\n"
      ]
     },
     "metadata": {},
     "output_type": "display_data"
    },
    {
     "data": {
      "text/html": [
       "<pre style=\"white-space:pre;overflow-x:auto;line-height:normal;font-family:Menlo,'DejaVu Sans Mono',consolas,'Courier New',monospace\"><span style=\"font-weight: bold\"> Trainable params: </span><span style=\"color: #00af00; text-decoration-color: #00af00\">1,624,939</span> (6.20 MB)\n",
       "</pre>\n"
      ],
      "text/plain": [
       "\u001b[1m Trainable params: \u001b[0m\u001b[38;5;34m1,624,939\u001b[0m (6.20 MB)\n"
      ]
     },
     "metadata": {},
     "output_type": "display_data"
    },
    {
     "data": {
      "text/html": [
       "<pre style=\"white-space:pre;overflow-x:auto;line-height:normal;font-family:Menlo,'DejaVu Sans Mono',consolas,'Courier New',monospace\"><span style=\"font-weight: bold\"> Non-trainable params: </span><span style=\"color: #00af00; text-decoration-color: #00af00\">0</span> (0.00 B)\n",
       "</pre>\n"
      ],
      "text/plain": [
       "\u001b[1m Non-trainable params: \u001b[0m\u001b[38;5;34m0\u001b[0m (0.00 B)\n"
      ]
     },
     "metadata": {},
     "output_type": "display_data"
    }
   ],
   "source": [
    "# Building the model\n",
    "model = Sequential()\n",
    "model.add(Conv2D(filters=32, kernel_size=(5,5), activation='relu', input_shape=X_train.shape[1:]))\n",
    "model.add(Conv2D(filters=64, kernel_size=(5,5), activation='relu'))\n",
    "model.add(MaxPool2D(pool_size=(2, 2)))\n",
    "model.add(Dropout(rate=0.15))\n",
    "model.add(Conv2D(filters=128, kernel_size=(3, 3), activation='relu'))\n",
    "model.add(Conv2D(filters=256, kernel_size=(3, 3), activation='relu'))\n",
    "model.add(MaxPool2D(pool_size=(2, 2)))\n",
    "model.add(Dropout(rate=0.20))\n",
    "model.add(Flatten())\n",
    "model.add(Dense(512, activation='relu'))\n",
    "model.add(Dropout(rate=0.25))\n",
    "model.add(Dense(43, activation='softmax'))\n",
    "\n",
    "# Compilation of the model\n",
    "model.compile(loss='categorical_crossentropy', optimizer='adam', metrics=['accuracy'])\n",
    "\n",
    "#M odel display\n",
    "model.summary() "
   ]
  },
  {
   "cell_type": "markdown",
   "id": "85ae26fa",
   "metadata": {
    "papermill": {
     "duration": 0.022619,
     "end_time": "2024-08-07T18:43:53.452557",
     "exception": false,
     "start_time": "2024-08-07T18:43:53.429938",
     "status": "completed"
    },
    "tags": []
   },
   "source": [
    "# 6. Training the Model"
   ]
  },
  {
   "cell_type": "code",
   "execution_count": 8,
   "id": "fe8a9e0d",
   "metadata": {
    "execution": {
     "iopub.execute_input": "2024-08-07T18:43:53.499869Z",
     "iopub.status.busy": "2024-08-07T18:43:53.499252Z",
     "iopub.status.idle": "2024-08-07T18:45:12.430474Z",
     "shell.execute_reply": "2024-08-07T18:45:12.429790Z"
    },
    "papermill": {
     "duration": 78.957064,
     "end_time": "2024-08-07T18:45:12.432533",
     "exception": false,
     "start_time": "2024-08-07T18:43:53.475469",
     "status": "completed"
    },
    "tags": []
   },
   "outputs": [
    {
     "name": "stdout",
     "output_type": "stream",
     "text": [
      "Epoch 1/35\n",
      "\u001b[1m246/246\u001b[0m \u001b[32m━━━━━━━━━━━━━━━━━━━━\u001b[0m\u001b[37m\u001b[0m \u001b[1m31s\u001b[0m 127ms/step - accuracy: 0.8852 - loss: 0.4409 - val_accuracy: 0.9737 - val_loss: 0.1126\n",
      "Epoch 2/35\n",
      "\u001b[1m246/246\u001b[0m \u001b[32m━━━━━━━━━━━━━━━━━━━━\u001b[0m\u001b[37m\u001b[0m \u001b[1m31s\u001b[0m 124ms/step - accuracy: 0.9558 - loss: 0.1704 - val_accuracy: 0.9876 - val_loss: 0.0549\n",
      "Epoch 3/35\n",
      "\u001b[1m246/246\u001b[0m \u001b[32m━━━━━━━━━━━━━━━━━━━━\u001b[0m\u001b[37m\u001b[0m \u001b[1m29s\u001b[0m 118ms/step - accuracy: 0.9706 - loss: 0.1062 - val_accuracy: 0.9906 - val_loss: 0.0360\n",
      "Epoch 4/35\n",
      "\u001b[1m246/246\u001b[0m \u001b[32m━━━━━━━━━━━━━━━━━━━━\u001b[0m\u001b[37m\u001b[0m \u001b[1m29s\u001b[0m 118ms/step - accuracy: 0.9784 - loss: 0.0805 - val_accuracy: 0.9806 - val_loss: 0.0915\n",
      "Epoch 5/35\n",
      "\u001b[1m246/246\u001b[0m \u001b[32m━━━━━━━━━━━━━━━━━━━━\u001b[0m\u001b[37m\u001b[0m \u001b[1m29s\u001b[0m 118ms/step - accuracy: 0.9564 - loss: 0.1862 - val_accuracy: 0.9917 - val_loss: 0.0380\n",
      "Epoch 6/35\n",
      "\u001b[1m246/246\u001b[0m \u001b[32m━━━━━━━━━━━━━━━━━━━━\u001b[0m\u001b[37m\u001b[0m \u001b[1m29s\u001b[0m 118ms/step - accuracy: 0.9881 - loss: 0.0496 - val_accuracy: 0.9887 - val_loss: 0.0485\n",
      "Epoch 7/35\n",
      "\u001b[1m246/246\u001b[0m \u001b[32m━━━━━━━━━━━━━━━━━━━━\u001b[0m\u001b[37m\u001b[0m \u001b[1m29s\u001b[0m 118ms/step - accuracy: 0.9834 - loss: 0.0661 - val_accuracy: 0.9927 - val_loss: 0.0345\n",
      "Epoch 8/35\n",
      "\u001b[1m246/246\u001b[0m \u001b[32m━━━━━━━━━━━━━━━━━━━━\u001b[0m\u001b[37m\u001b[0m \u001b[1m29s\u001b[0m 118ms/step - accuracy: 0.9867 - loss: 0.0470 - val_accuracy: 0.9875 - val_loss: 0.0573\n",
      "Epoch 9/35\n",
      "\u001b[1m246/246\u001b[0m \u001b[32m━━━━━━━━━━━━━━━━━━━━\u001b[0m\u001b[37m\u001b[0m \u001b[1m29s\u001b[0m 118ms/step - accuracy: 0.9841 - loss: 0.0601 - val_accuracy: 0.9899 - val_loss: 0.0472\n",
      "Epoch 10/35\n",
      "\u001b[1m246/246\u001b[0m \u001b[32m━━━━━━━━━━━━━━━━━━━━\u001b[0m\u001b[37m\u001b[0m \u001b[1m29s\u001b[0m 117ms/step - accuracy: 0.9838 - loss: 0.0663 - val_accuracy: 0.9931 - val_loss: 0.0283\n",
      "Epoch 11/35\n",
      "\u001b[1m246/246\u001b[0m \u001b[32m━━━━━━━━━━━━━━━━━━━━\u001b[0m\u001b[37m\u001b[0m \u001b[1m29s\u001b[0m 118ms/step - accuracy: 0.9903 - loss: 0.0360 - val_accuracy: 0.9939 - val_loss: 0.0306\n",
      "Epoch 12/35\n",
      "\u001b[1m246/246\u001b[0m \u001b[32m━━━━━━━━━━━━━━━━━━━━\u001b[0m\u001b[37m\u001b[0m \u001b[1m29s\u001b[0m 118ms/step - accuracy: 0.9893 - loss: 0.0431 - val_accuracy: 0.9930 - val_loss: 0.0354\n",
      "Epoch 13/35\n",
      "\u001b[1m246/246\u001b[0m \u001b[32m━━━━━━━━━━━━━━━━━━━━\u001b[0m\u001b[37m\u001b[0m \u001b[1m29s\u001b[0m 119ms/step - accuracy: 0.9874 - loss: 0.0501 - val_accuracy: 0.9894 - val_loss: 0.0464\n",
      "Epoch 14/35\n",
      "\u001b[1m246/246\u001b[0m \u001b[32m━━━━━━━━━━━━━━━━━━━━\u001b[0m\u001b[37m\u001b[0m \u001b[1m29s\u001b[0m 118ms/step - accuracy: 0.9820 - loss: 0.0648 - val_accuracy: 0.9881 - val_loss: 0.0685\n",
      "Epoch 15/35\n",
      "\u001b[1m246/246\u001b[0m \u001b[32m━━━━━━━━━━━━━━━━━━━━\u001b[0m\u001b[37m\u001b[0m \u001b[1m29s\u001b[0m 117ms/step - accuracy: 0.9775 - loss: 0.0917 - val_accuracy: 0.9935 - val_loss: 0.0428\n",
      "Epoch 16/35\n",
      "\u001b[1m246/246\u001b[0m \u001b[32m━━━━━━━━━━━━━━━━━━━━\u001b[0m\u001b[37m\u001b[0m \u001b[1m32s\u001b[0m 130ms/step - accuracy: 0.9882 - loss: 0.0520 - val_accuracy: 0.9913 - val_loss: 0.0421\n",
      "Epoch 17/35\n",
      "\u001b[1m246/246\u001b[0m \u001b[32m━━━━━━━━━━━━━━━━━━━━\u001b[0m\u001b[37m\u001b[0m \u001b[1m36s\u001b[0m 148ms/step - accuracy: 0.9894 - loss: 0.0450 - val_accuracy: 0.9946 - val_loss: 0.0292\n",
      "Epoch 18/35\n",
      "\u001b[1m246/246\u001b[0m \u001b[32m━━━━━━━━━━━━━━━━━━━━\u001b[0m\u001b[37m\u001b[0m \u001b[1m35s\u001b[0m 144ms/step - accuracy: 0.9939 - loss: 0.0240 - val_accuracy: 0.9953 - val_loss: 0.0240\n",
      "Epoch 19/35\n",
      "\u001b[1m246/246\u001b[0m \u001b[32m━━━━━━━━━━━━━━━━━━━━\u001b[0m\u001b[37m\u001b[0m \u001b[1m35s\u001b[0m 141ms/step - accuracy: 0.9897 - loss: 0.0492 - val_accuracy: 0.9950 - val_loss: 0.0245\n",
      "Epoch 20/35\n",
      "\u001b[1m246/246\u001b[0m \u001b[32m━━━━━━━━━━━━━━━━━━━━\u001b[0m\u001b[37m\u001b[0m \u001b[1m32s\u001b[0m 129ms/step - accuracy: 0.9894 - loss: 0.0493 - val_accuracy: 0.9946 - val_loss: 0.0258\n",
      "Epoch 21/35\n",
      "\u001b[1m246/246\u001b[0m \u001b[32m━━━━━━━━━━━━━━━━━━━━\u001b[0m\u001b[37m\u001b[0m \u001b[1m31s\u001b[0m 124ms/step - accuracy: 0.9889 - loss: 0.0471 - val_accuracy: 0.9939 - val_loss: 0.0305\n",
      "Epoch 22/35\n",
      "\u001b[1m246/246\u001b[0m \u001b[32m━━━━━━━━━━━━━━━━━━━━\u001b[0m\u001b[37m\u001b[0m \u001b[1m30s\u001b[0m 123ms/step - accuracy: 0.9923 - loss: 0.0304 - val_accuracy: 0.9949 - val_loss: 0.0277\n",
      "Epoch 23/35\n",
      "\u001b[1m246/246\u001b[0m \u001b[32m━━━━━━━━━━━━━━━━━━━━\u001b[0m\u001b[37m\u001b[0m \u001b[1m30s\u001b[0m 122ms/step - accuracy: 0.9858 - loss: 0.0673 - val_accuracy: 0.9955 - val_loss: 0.0212\n",
      "Epoch 24/35\n",
      "\u001b[1m246/246\u001b[0m \u001b[32m━━━━━━━━━━━━━━━━━━━━\u001b[0m\u001b[37m\u001b[0m \u001b[1m29s\u001b[0m 118ms/step - accuracy: 0.9853 - loss: 0.0594 - val_accuracy: 0.9918 - val_loss: 0.0398\n",
      "Epoch 25/35\n",
      "\u001b[1m246/246\u001b[0m \u001b[32m━━━━━━━━━━━━━━━━━━━━\u001b[0m\u001b[37m\u001b[0m \u001b[1m29s\u001b[0m 120ms/step - accuracy: 0.9913 - loss: 0.0385 - val_accuracy: 0.9964 - val_loss: 0.0153\n",
      "Epoch 26/35\n",
      "\u001b[1m246/246\u001b[0m \u001b[32m━━━━━━━━━━━━━━━━━━━━\u001b[0m\u001b[37m\u001b[0m \u001b[1m29s\u001b[0m 119ms/step - accuracy: 0.9914 - loss: 0.0382 - val_accuracy: 0.9818 - val_loss: 0.0711\n",
      "Epoch 27/35\n",
      "\u001b[1m246/246\u001b[0m \u001b[32m━━━━━━━━━━━━━━━━━━━━\u001b[0m\u001b[37m\u001b[0m \u001b[1m29s\u001b[0m 119ms/step - accuracy: 0.9865 - loss: 0.0564 - val_accuracy: 0.9954 - val_loss: 0.0248\n",
      "Epoch 28/35\n",
      "\u001b[1m246/246\u001b[0m \u001b[32m━━━━━━━━━━━━━━━━━━━━\u001b[0m\u001b[37m\u001b[0m \u001b[1m30s\u001b[0m 121ms/step - accuracy: 0.9890 - loss: 0.0523 - val_accuracy: 0.9901 - val_loss: 0.0589\n",
      "Epoch 29/35\n",
      "\u001b[1m246/246\u001b[0m \u001b[32m━━━━━━━━━━━━━━━━━━━━\u001b[0m\u001b[37m\u001b[0m \u001b[1m29s\u001b[0m 120ms/step - accuracy: 0.9906 - loss: 0.0574 - val_accuracy: 0.9945 - val_loss: 0.0310\n",
      "Epoch 30/35\n",
      "\u001b[1m246/246\u001b[0m \u001b[32m━━━━━━━━━━━━━━━━━━━━\u001b[0m\u001b[37m\u001b[0m \u001b[1m30s\u001b[0m 124ms/step - accuracy: 0.9913 - loss: 0.0513 - val_accuracy: 0.9952 - val_loss: 0.0300\n",
      "Epoch 31/35\n",
      "\u001b[1m246/246\u001b[0m \u001b[32m━━━━━━━━━━━━━━━━━━━━\u001b[0m\u001b[37m\u001b[0m \u001b[1m30s\u001b[0m 124ms/step - accuracy: 0.9932 - loss: 0.0331 - val_accuracy: 0.9964 - val_loss: 0.0170\n",
      "Epoch 32/35\n",
      "\u001b[1m246/246\u001b[0m \u001b[32m━━━━━━━━━━━━━━━━━━━━\u001b[0m\u001b[37m\u001b[0m \u001b[1m30s\u001b[0m 123ms/step - accuracy: 0.9948 - loss: 0.0301 - val_accuracy: 0.9935 - val_loss: 0.0407\n",
      "Epoch 33/35\n",
      "\u001b[1m246/246\u001b[0m \u001b[32m━━━━━━━━━━━━━━━━━━━━\u001b[0m\u001b[37m\u001b[0m \u001b[1m29s\u001b[0m 119ms/step - accuracy: 0.9898 - loss: 0.0608 - val_accuracy: 0.9969 - val_loss: 0.0217\n",
      "Epoch 34/35\n",
      "\u001b[1m246/246\u001b[0m \u001b[32m━━━━━━━━━━━━━━━━━━━━\u001b[0m\u001b[37m\u001b[0m \u001b[1m29s\u001b[0m 118ms/step - accuracy: 0.9946 - loss: 0.0284 - val_accuracy: 0.9967 - val_loss: 0.0158\n",
      "Epoch 35/35\n",
      "\u001b[1m246/246\u001b[0m \u001b[32m━━━━━━━━━━━━━━━━━━━━\u001b[0m\u001b[37m\u001b[0m \u001b[1m32s\u001b[0m 130ms/step - accuracy: 0.9708 - loss: 0.1716 - val_accuracy: 0.9950 - val_loss: 0.0266\n"
     ]
    }
   ],
   "source": [
    "# Training the Model\n",
    "with tf.device('/GPU:1'):\n",
    "    epochs = 35\n",
    "    history1 = model.fit(X_train, y_train, batch_size=128, epochs=epochs, validation_data=(X_test, y_test))"
   ]
  },
  {
   "cell_type": "markdown",
   "id": "67ce5265",
   "metadata": {
    "papermill": {
     "duration": 0.528883,
     "end_time": "2024-08-07T18:45:13.470849",
     "exception": false,
     "start_time": "2024-08-07T18:45:12.941966",
     "status": "completed"
    },
    "tags": []
   },
   "source": [
    "# 7. Visualizing the performance of the Model during Training Phase"
   ]
  },
  {
   "cell_type": "code",
   "execution_count": 9,
   "id": "db1a4027",
   "metadata": {
    "execution": {
     "iopub.execute_input": "2024-08-07T18:45:14.491781Z",
     "iopub.status.busy": "2024-08-07T18:45:14.491216Z",
     "iopub.status.idle": "2024-08-07T18:45:14.867649Z",
     "shell.execute_reply": "2024-08-07T18:45:14.866921Z"
    },
    "papermill": {
     "duration": 0.889695,
     "end_time": "2024-08-07T18:45:14.869739",
     "exception": false,
     "start_time": "2024-08-07T18:45:13.980044",
     "status": "completed"
    },
    "tags": []
   },
   "outputs": [
    {
     "data": {
      "image/png": "[encoded data removed]",
      "text/plain": [
       "<Figure size 2000x500 with 2 Axes>"
      ]
     },
     "metadata": {},
     "output_type": "display_data"
    }
   ],
   "source": [
    "plot_performance(history=history1)"
   ]
  },
  {
   "cell_type": "markdown",
   "id": "7b19e3fe",
   "metadata": {
    "papermill": {
     "duration": 0.519762,
     "end_time": "2024-08-07T18:45:15.903559",
     "exception": false,
     "start_time": "2024-08-07T18:45:15.383797",
     "status": "completed"
    },
    "tags": []
   },
   "source": [
    "# 8. Loading Test Dataset and Evaluating the Model"
   ]
  },
  {
   "cell_type": "code",
   "execution_count": 10,
   "id": "75634f70",
   "metadata": {
    "execution": {
     "iopub.execute_input": "2024-08-07T18:45:16.928569Z",
     "iopub.status.busy": "2024-08-07T18:45:16.927727Z",
     "iopub.status.idle": "2024-08-07T18:47:05.834436Z",
     "shell.execute_reply": "2024-08-07T18:47:05.833701Z"
    },
    "papermill": {
     "duration": 109.420413,
     "end_time": "2024-08-07T18:47:05.836863",
     "exception": false,
     "start_time": "2024-08-07T18:45:16.416450",
     "status": "completed"
    },
    "tags": []
   },
   "outputs": [],
   "source": [
    "# testing accuracy on test dataset\n",
    "from sklearn.metrics import accuracy_score\n",
    "\n",
    "# Importing the test dataset\n",
    "y_test = pd.read_csv('./input/gtsrb-german-traffic-sign/Test.csv')\n",
    "\n",
    "labels = y_test[\"ClassId\"].values\n",
    "imgs = y_test[\"Path\"].values\n",
    "\n",
    "data=[]\n",
    "\n",
    "# Retreiving the images\n",
    "with tf.device('/GPU:0'):\n",
    "    for img in imgs:\n",
    "        image = Image.open('./input/gtsrb-german-traffic-sign/'+img)\n",
    "        image = image.resize([30, 30])\n",
    "        data.append(np.array(image))\n",
    "\n",
    "X_test=np.array(data)"
   ]
  },
  {
   "cell_type": "code",
   "execution_count": 12,
   "id": "d320b242",
   "metadata": {},
   "outputs": [
    {
     "name": "stdout",
     "output_type": "stream",
     "text": [
      "\u001b[1m395/395\u001b[0m \u001b[32m━━━━━━━━━━━━━━━━━━━━\u001b[0m\u001b[37m\u001b[0m \u001b[1m5s\u001b[0m 11ms/step\n"
     ]
    },
    {
     "data": {
      "text/plain": [
       "0.967458432304038"
      ]
     },
     "execution_count": 12,
     "metadata": {},
     "output_type": "execute_result"
    }
   ],
   "source": [
    "# evaluate the model\n",
    "y_pred = model.predict(X_test)\n",
    "y_pred = np.argmax(y_pred, axis=1)\n",
    "accuracy_score(labels, y_pred)"
   ]
  },
  {
   "cell_type": "markdown",
   "id": "88d1e75f",
   "metadata": {
    "papermill": {
     "duration": 0.512606,
     "end_time": "2024-08-07T18:47:08.584401",
     "exception": false,
     "start_time": "2024-08-07T18:47:08.071795",
     "status": "completed"
    },
    "tags": []
   },
   "source": [
    "# 9. Saving the Model"
   ]
  },
  {
   "cell_type": "code",
   "execution_count": null,
   "id": "74b5eaee",
   "metadata": {
    "execution": {
     "iopub.execute_input": "2024-08-07T18:47:09.613565Z",
     "iopub.status.busy": "2024-08-07T18:47:09.613287Z",
     "iopub.status.idle": "2024-08-07T18:47:09.678314Z",
     "shell.execute_reply": "2024-08-07T18:47:09.677677Z"
    },
    "papermill": {
     "duration": 0.589136,
     "end_time": "2024-08-07T18:47:09.680352",
     "exception": false,
     "start_time": "2024-08-07T18:47:09.091216",
     "status": "completed"
    },
    "tags": []
   },
   "outputs": [],
   "source": [
    "# Saving the Model \n",
    "model.save('traffic_classifier.keras')"
   ]
  },
  {
   "cell_type": "markdown",
   "id": "00414653",
   "metadata": {},
   "source": [
    "# 10. Visualizing the Performance"
   ]
  },
  {
   "cell_type": "code",
   "execution_count": 16,
   "id": "732855ec",
   "metadata": {},
   "outputs": [
    {
     "name": "stdout",
     "output_type": "stream",
     "text": [
      "\n",
      "\n",
      "\n",
      "\n",
      "\n",
      "  ahead only\n"
     ]
    },
    {
     "data": {
      "image/png": "[encoded data removed]",
      "text/plain": [
       "<Figure size 640x480 with 1 Axes>"
      ]
     },
     "metadata": {},
     "output_type": "display_data"
    }
   ],
   "source": [
    "# load the model\n",
    "model = load_model('traffic_classifier.keras', compile = False)\n",
    "\n",
    "# get all .png files from the test folder\n",
    "test_folder = './input/gtsrb-german-traffic-sign/Test/'\n",
    "all_images = [f for f in os.listdir(test_folder) if f.endswith('.png')]\n",
    "\n",
    "# select a random image\n",
    "random_image = np.random.choice(all_images)\n",
    "img_path = os.path.join(test_folder, random_image)\n",
    "\n",
    "# load and process the image\n",
    "img = Image.open(img_path)\n",
    "img = img.resize([30, 30])\n",
    "img = np.array(img)\n",
    "plt.imshow(img)\n",
    "\n",
    "# prepare the image for model prediction\n",
    "img = np.expand_dims(img, axis=0)\n",
    "\n",
    "# load the sign names\n",
    "sign_names = pd.read_csv('./input/gtsrb-german-traffic-sign/Signs.csv')\n",
    "\n",
    "# predict the class of the image\n",
    "predicted_class = np.argmax(model.predict(img, verbose=0), axis=-1)[0]\n",
    "\n",
    "# print the sign name corresponding to the predicted class\n",
    "print('\\n\\n\\n',sign_names[sign_names['Code'] == predicted_class].values[0][1])"
   ]
  }
 ],
 "metadata": {
  "kaggle": {
   "accelerator": "none",
   "dataSources": [
    {
     "datasetId": 82373,
     "sourceId": 191501,
     "sourceType": "datasetVersion"
    }
   ],
   "dockerImageVersionId": 30191,
   "isGpuEnabled": false,
   "isInternetEnabled": true,
   "language": "python",
   "sourceType": "notebook"
  },
  "kernelspec": {
   "display_name": "Python 3",
   "language": "python",
   "name": "python3"
  },
  "language_info": {
   "codemirror_mode": {
    "name": "ipython",
    "version": 3
   },
   "file_extension": ".py",
   "mimetype": "text/x-python",
   "name": "python",
   "nbconvert_exporter": "python",
   "pygments_lexer": "ipython3",
   "version": "3.11.9"
  },
  "papermill": {
   "default_parameters": {},
   "duration": 467.668447,
   "end_time": "2024-08-07T18:47:13.266683",
   "environment_variables": {},
   "exception": null,
   "input_path": "__notebook__.ipynb",
   "output_path": "__notebook__.ipynb",
   "parameters": {},
   "start_time": "2024-08-07T18:39:25.598236",
   "version": "2.3.4"
  }
 },
 "nbformat": 4,
 "nbformat_minor": 5
}
