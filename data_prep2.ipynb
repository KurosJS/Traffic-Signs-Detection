{
 "cells": [
  {
   "cell_type": "code",
   "execution_count": 3,
   "metadata": {},
   "outputs": [],
   "source": [
    "import os\n",
    "import glob\n",
    "import csv\n",
    "import torch\n",
    "import numpy as np\n",
    "import matplotlib.pyplot as plt\n",
    "from PIL import Image\n",
    "import shutil\n",
    "import re\n",
    "import pandas as pd\n",
    "\n",
    "# From ultralytics import YOLO (for YOLO 11)\n",
    "from ultralytics import YOLO\n",
    "\n",
    "# TorchVision v2 transforms\n",
    "from torchvision.transforms import v2\n",
    "from torchvision.transforms.v2 import functional as F"
   ]
  },
  {
   "cell_type": "code",
   "execution_count": 1,
   "metadata": {},
   "outputs": [
    {
     "name": "stdout",
     "output_type": "stream",
     "text": [
      "Files have been moved successfully.\n"
     ]
    }
   ],
   "source": [
    "# # define the path\n",
    "# path = \"C:\\\\Users\\\\polat\\\\Desktop\\\\TEST\"\n",
    "\n",
    "# # get the list of files\n",
    "# files = os.listdir(path)\n",
    "\n",
    "# # create a dictionary to store the files\n",
    "# file_dict = {}\n",
    "\n",
    "# # iterate over the files\n",
    "# for file in files:\n",
    "#     # get the first 3 numbers\n",
    "#     key = re.findall(r'\\d{3}', file)[0]\n",
    "#     # check if the key is in the dictionary\n",
    "#     if key not in file_dict:\n",
    "#         # create a new list for the key\n",
    "#         file_dict[key] = []\n",
    "#     # append the file to the list\n",
    "#     file_dict[key].append(file)\n",
    "\n",
    "# # iterate over the dictionary\n",
    "# for key, value in file_dict.items():\n",
    "#     # create a new folder\n",
    "#     os.makedirs(os.path.join(path, key), exist_ok=True)\n",
    "#     # move the files to the new folder\n",
    "#     for file in value:\n",
    "#         shutil.move(os.path.join(path, file), os.path.join(path, key, file))\n",
    "\n",
    "# print(\"Files have been moved successfully.\")"
   ]
  },
  {
   "cell_type": "code",
   "execution_count": 2,
   "metadata": {},
   "outputs": [
    {
     "name": "stdout",
     "output_type": "stream",
     "text": [
      "Files have been renamed successfully.\n"
     ]
    }
   ],
   "source": [
    "# # name the images iteratively from 12629 to 12629+number of images (go to each folder and rename the images)\n",
    "# for folder in os.listdir(path):\n",
    "#     if os.path.isdir(os.path.join(path, folder)):\n",
    "#         i = 12629\n",
    "#         for file in os.listdir(os.path.join(path, folder)):\n",
    "#             os.rename(os.path.join(path, folder, file), os.path.join(path, folder, str(i) + \".png\"))\n",
    "#             i += 1\n",
    "# print(\"Files have been renamed successfully.\")"
   ]
  },
  {
   "cell_type": "code",
   "execution_count": 1,
   "metadata": {},
   "outputs": [],
   "source": [
    "# YOLO 11 Detection and Visualization\n",
    "\n",
    "def detect_and_visualize(base_dir, model_path=\"yolo11n.pt\", conf_threshold=0.25, output_dir=\"output\"):\n",
    "    \"\"\"\n",
    "    Loads a YOLO 11 model (e.g., yolo11n.pt) via ultralytics and applies it \n",
    "    to each .png image under 'base_dir'.\n",
    "    \n",
    "    Returns detection results as (image_path, width, height, [boxes]) in a YOLO-like format:\n",
    "      boxes -> [(class_id, x_center, y_center, box_width, box_height), ...]\n",
    "    Visualizes and saves every 50th detection with bounding boxes in the output directory.\n",
    "    \"\"\"\n",
    "\n",
    "    # Load YOLO 11 model from ultralytics\n",
    "    model = YOLO(model_path)\n",
    "\n",
    "    # The detection results are collected here\n",
    "    detection_results = []\n",
    "\n",
    "    all_image_paths = sorted(glob.glob(os.path.join(base_dir, \"**\", \"*.png\"), recursive=True))\n",
    "    if len(all_image_paths) == 0:\n",
    "        raise ValueError(f\"No .png images found under {base_dir}\")\n",
    "    for idx, img_path in enumerate(all_image_paths):\n",
    "        img = Image.open(img_path).convert(\"RGB\")\n",
    "        width, height = img.size\n",
    "\n",
    "        # Perform inference using the model\n",
    "        results = model.predict(source=img, conf=conf_threshold)\n",
    "\n",
    "        # YOLO results come in a list, one per image. There's only one image here.\n",
    "        boxes_info = []\n",
    "        if len(results) > 0:\n",
    "            r = results[0]\n",
    "            # 'r.boxes' is a Boxes object containing bounding box coords, class, conf\n",
    "            for box in r.boxes:\n",
    "                # box.xyxy -> tensor of shape [1,4]\n",
    "                x1, y1, x2, y2 = box.xyxy[0].tolist()\n",
    "                w_box = x2 - x1\n",
    "                h_box = y2 - y1\n",
    "                x_center = x1 + w_box / 2\n",
    "                y_center = y1 + h_box / 2\n",
    "                cls_id = int(box.cls.item())\n",
    "                boxes_info.append((cls_id, x_center, y_center, w_box, h_box))\n",
    "\n",
    "        detection_results.append((img_path, width, height, boxes_info))\n",
    "\n",
    "        # Visualize and save every 25th image\n",
    "        if idx % 25 == 0:\n",
    "            fig, ax = plt.subplots(1)\n",
    "            ax.imshow(img)\n",
    "            for (cls_id, x_c, y_c, bw, bh) in boxes_info:\n",
    "                rect = plt.Rectangle(\n",
    "                    (x_c - bw/2, y_c - bh/2),\n",
    "                    bw, bh,\n",
    "                    fill=False,\n",
    "                    color=\"red\",\n",
    "                    linewidth=2\n",
    "                )\n",
    "                ax.add_patch(rect)\n",
    "            plt.title(f\"Detections for {os.path.basename(img_path)}\")\n",
    "\n",
    "            # Save the figure\n",
    "            if not os.path.exists(output_dir):\n",
    "                os.makedirs(output_dir)\n",
    "            output_path = os.path.join(output_dir, f\"test_detection_{idx}.png\")\n",
    "            plt.savefig(output_path)\n",
    "            plt.close(fig)\n",
    "        \n",
    "    return detection_results"
   ]
  },
  {
   "cell_type": "code",
   "execution_count": 23,
   "metadata": {},
   "outputs": [],
   "source": [
    "# Converting YOLO-Format Boxes to dataset's CSV\n",
    "\n",
    "def convert_detections_to_csv(detection_results, csv_filename=\"annotations.csv\"):\n",
    "    \"\"\"\n",
    "    Writes a CSV with columns:\n",
    "      Width, Height, Roi.X1, Roi.Y1, Roi.X2, Roi.Y2, ClassId, Path\n",
    "    Converting YOLO-like (x_center, y_center, w_box, h_box) to absolute \n",
    "    coordinates (x1, y1, x2, y2).\n",
    "    \"\"\"\n",
    "    header = [\"Width\", \"Height\", \"Roi.X1\", \"Roi.Y1\", \"Roi.X2\", \"Roi.Y2\", \"ClassId\", \"Path\"]\n",
    "    \n",
    "    with open(csv_filename, mode=\"w\", newline=\"\") as csv_file:\n",
    "        writer = csv.writer(csv_file)\n",
    "        writer.writerow(header)\n",
    "        \n",
    "        for (img_path, img_w, img_h, boxes) in detection_results:\n",
    "            for (class_id, x_center, y_center, bw, bh) in boxes:\n",
    "                x1 = x_center - bw / 2\n",
    "                y1 = y_center - bh / 2\n",
    "                x2 = x_center + bw / 2\n",
    "                y2 = y_center + bh / 2\n",
    "                \n",
    "                row = [\n",
    "                    img_w,\n",
    "                    img_h,\n",
    "                    int(x1),\n",
    "                    int(y1),\n",
    "                    int(x2),\n",
    "                    int(y2),\n",
    "                    class_id,\n",
    "                    img_path\n",
    "                ]\n",
    "                writer.writerow(row)"
   ]
  },
  {
   "cell_type": "code",
   "execution_count": 4,
   "metadata": {},
   "outputs": [
    {
     "ename": "ValueError",
     "evalue": "No .png images found under C:\\Users\\polat\\Desktop\\TEST",
     "output_type": "error",
     "traceback": [
      "\u001b[1;31m---------------------------------------------------------------------------\u001b[0m",
      "\u001b[1;31mValueError\u001b[0m                                Traceback (most recent call last)",
      "Cell \u001b[1;32mIn[4], line 5\u001b[0m\n\u001b[0;32m      2\u001b[0m model \u001b[38;5;241m=\u001b[39m \u001b[38;5;124m\"\u001b[39m\u001b[38;5;124mtraffic_signs.pt\u001b[39m\u001b[38;5;124m\"\u001b[39m\n\u001b[0;32m      4\u001b[0m \u001b[38;5;66;03m# get the visualized detections\u001b[39;00m\n\u001b[1;32m----> 5\u001b[0m detection_results \u001b[38;5;241m=\u001b[39m \u001b[43mdetect_and_visualize\u001b[49m\u001b[43m(\u001b[49m\u001b[43mpath\u001b[49m\u001b[43m,\u001b[49m\u001b[43m \u001b[49m\u001b[43mmodel_path\u001b[49m\u001b[38;5;241;43m=\u001b[39;49m\u001b[43mmodel\u001b[49m\u001b[43m)\u001b[49m\n",
      "Cell \u001b[1;32mIn[1], line 21\u001b[0m, in \u001b[0;36mdetect_and_visualize\u001b[1;34m(base_dir, model_path, conf_threshold, output_dir)\u001b[0m\n\u001b[0;32m     19\u001b[0m all_image_paths \u001b[38;5;241m=\u001b[39m \u001b[38;5;28msorted\u001b[39m(glob\u001b[38;5;241m.\u001b[39mglob(os\u001b[38;5;241m.\u001b[39mpath\u001b[38;5;241m.\u001b[39mjoin(base_dir, \u001b[38;5;124m\"\u001b[39m\u001b[38;5;124m**\u001b[39m\u001b[38;5;124m\"\u001b[39m, \u001b[38;5;124m\"\u001b[39m\u001b[38;5;124m*.png\u001b[39m\u001b[38;5;124m\"\u001b[39m), recursive\u001b[38;5;241m=\u001b[39m\u001b[38;5;28;01mTrue\u001b[39;00m))\n\u001b[0;32m     20\u001b[0m \u001b[38;5;28;01mif\u001b[39;00m \u001b[38;5;28mlen\u001b[39m(all_image_paths) \u001b[38;5;241m==\u001b[39m \u001b[38;5;241m0\u001b[39m:\n\u001b[1;32m---> 21\u001b[0m     \u001b[38;5;28;01mraise\u001b[39;00m \u001b[38;5;167;01mValueError\u001b[39;00m(\u001b[38;5;124mf\u001b[39m\u001b[38;5;124m\"\u001b[39m\u001b[38;5;124mNo .png images found under \u001b[39m\u001b[38;5;132;01m{\u001b[39;00mbase_dir\u001b[38;5;132;01m}\u001b[39;00m\u001b[38;5;124m\"\u001b[39m)\n\u001b[0;32m     22\u001b[0m \u001b[38;5;28;01mfor\u001b[39;00m idx, img_path \u001b[38;5;129;01min\u001b[39;00m \u001b[38;5;28menumerate\u001b[39m(all_image_paths):\n\u001b[0;32m     23\u001b[0m     img \u001b[38;5;241m=\u001b[39m Image\u001b[38;5;241m.\u001b[39mopen(img_path)\u001b[38;5;241m.\u001b[39mconvert(\u001b[38;5;124m\"\u001b[39m\u001b[38;5;124mRGB\u001b[39m\u001b[38;5;124m\"\u001b[39m)\n",
      "\u001b[1;31mValueError\u001b[0m: No .png images found under C:\\Users\\polat\\Desktop\\TEST"
     ]
    }
   ],
   "source": [
    "path = \"C:\\\\Users\\\\polat\\\\Desktop\\\\TEST\"\n",
    "model = \"traffic_signs.pt\"\n",
    "\n",
    "# get the visualized detections\n",
    "detection_results = detect_and_visualize(path, model_path=model)"
   ]
  }
 ],
 "metadata": {
  "kernelspec": {
   "display_name": "Python 3",
   "language": "python",
   "name": "python3"
  },
  "language_info": {
   "codemirror_mode": {
    "name": "ipython",
    "version": 3
   },
   "file_extension": ".py",
   "mimetype": "text/x-python",
   "name": "python",
   "nbconvert_exporter": "python",
   "pygments_lexer": "ipython3",
   "version": "3.11.9"
  }
 },
 "nbformat": 4,
 "nbformat_minor": 2
}
